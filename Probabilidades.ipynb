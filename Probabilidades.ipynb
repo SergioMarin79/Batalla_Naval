{
  "nbformat": 4,
  "nbformat_minor": 0,
  "metadata": {
    "colab": {
      "name": "Probabilidades.ipynb",
      "provenance": [],
      "collapsed_sections": [],
      "authorship_tag": "ABX9TyO0NK24/nCMjIxYJo8pwEbr",
      "include_colab_link": true
    },
    "kernelspec": {
      "name": "python3",
      "display_name": "Python 3"
    },
    "language_info": {
      "name": "python"
    }
  },
  "cells": [
    {
      "cell_type": "markdown",
      "metadata": {
        "id": "view-in-github",
        "colab_type": "text"
      },
      "source": [
        "<a href=\"https://colab.research.google.com/github/SergioQuinteroM/Batalla_Naval/blob/main/Probabilidades.ipynb\" target=\"_parent\"><img src=\"https://colab.research.google.com/assets/colab-badge.svg\" alt=\"Open In Colab\"/></a>"
      ]
    },
    {
      "cell_type": "markdown",
      "metadata": {
        "id": "5aDgSC-V8OqV"
      },
      "source": [
        "Se conjetura que hay impurezas en 30% del total de pozos de agua potable de cierta comunidad rural. Para obtener información sobre la verdadera magnitud del problema se determina que debe realizarse algún tipo de prueba. Como es muy costoso probar todos los pozos del área, se eligen 10 al azar para someterlos a la prueba. a) Si se utiliza la distribución binomial, ¿cuál es la probabilidad de que exactamente 3 pozos tengan impurezas, considerando que la conjetura es correcta? b) ¿Cuál es la probabilidad de que más de 3 pozos tengan impurezas?"
      ]
    },
    {
      "cell_type": "code",
      "metadata": {
        "colab": {
          "base_uri": "https://localhost:8080/",
          "height": 744
        },
        "id": "jF7sw08y1zG4",
        "outputId": "87f7e64f-b23d-42f2-cac2-01c6f134b97c"
      },
      "source": [
        "import scipy.stats as ss\n",
        "import numpy as np\n",
        "import matplotlib.pyplot as plt\n",
        "\n",
        "\n",
        "def proBinomiales():\n",
        "    x = ss.binom(10,0.3)\n",
        "    listaX=[0,1,2,3,4,5,6,7,8,9,10]\n",
        "    listaFx=[]\n",
        "    temp = 0\n",
        "\n",
        "    #Ciclo para la tabla de frencuencia relativa\n",
        "    print(\"TABLA DE FRECUENCIA RELATIVA\")\n",
        "    print(\"    X------------------F(X)\")\n",
        "    for i in range(11):\n",
        "          listaFx.append(x.pmf(i))\n",
        "          print(\"    \" + str(listaX[i]) +\"                 \"+ str(listaFx[i]))\n",
        "\n",
        "    #Ciclo para la tabla de frencuencia acumulativa\n",
        "    print(\"TABLA DE FRECUENCIA ACUMULATIVA\")\n",
        "    print(\"    X------------------F(X)\")    \n",
        "    for j in range(11):\n",
        "        temp = temp + listaFx[j]\n",
        "        print(\"    \" + str(listaX[j]) +\"                 \"+ str(temp))\n",
        "\n",
        "\n",
        "   #Grafica \n",
        "\n",
        "    print(\"GRAFICA DE FRECUENCIA RELATIVA\")\n",
        "    a = np.arange(11)\n",
        "    plt.plot(a,x.pmf(a), \"bo\")\n",
        "    plt.vlines(a,0,x.pmf(a), \"g\", linestyles=\"solid\")\n",
        "    plt.show()\n",
        "\n",
        "\n",
        "proBinomiales()\n",
        "\n"
      ],
      "execution_count": 40,
      "outputs": [
        {
          "output_type": "stream",
          "name": "stdout",
          "text": [
            "TABLA DE FRECUENCIA RELATIVA\n",
            "    X------------------F(X)\n",
            "    0                 0.028247524900000005\n",
            "    1                 0.12106082100000018\n",
            "    2                 0.2334744405\n",
            "    3                 0.26682793200000016\n",
            "    4                 0.20012094900000013\n",
            "    5                 0.10291934520000007\n",
            "    6                 0.03675690899999999\n",
            "    7                 0.009001692000000002\n",
            "    8                 0.0014467004999999982\n",
            "    9                 0.00013778100000000015\n",
            "    10                 5.904899999999995e-06\n",
            "TABLA DE FRECUENCIA ACUMULATIVA\n",
            "    X------------------F(X)\n",
            "    0                 0.028247524900000005\n",
            "    1                 0.1493083459000002\n",
            "    2                 0.3827827864000002\n",
            "    3                 0.6496107184000004\n",
            "    4                 0.8497316674000005\n",
            "    5                 0.9526510126000005\n",
            "    6                 0.9894079216000005\n",
            "    7                 0.9984096136000005\n",
            "    8                 0.9998563141000004\n",
            "    9                 0.9999940951000004\n",
            "    10                 1.0000000000000004\n",
            "GRAFICA DE FRECUENCIA RELATIVA\n"
          ]
        },
        {
          "output_type": "display_data",
          "data": {
            "image/png": "[encoded data removed]",
            "text/plain": [
              "<Figure size 432x288 with 1 Axes>"
            ]
          },
          "metadata": {
            "needs_background": "light"
          }
        }
      ]
    }
  ]
}